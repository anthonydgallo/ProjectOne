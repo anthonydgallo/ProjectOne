{
 "cells": [
  {
   "cell_type": "code",
   "execution_count": 58,
   "metadata": {},
   "outputs": [
    {
     "name": "stdout",
     "output_type": "stream",
     "text": [
      "Team #1: Aswathy Mohan, Aiyana Mathew, Aruna Amaresan, Michael Ilelaboye\n",
      "Team #2: Zach Quasney, Emily Nassi, Linda Farley, Jason Subbie\n",
      "Team #3: Mary Kruse, Spenser Hilton, Trevor Prescott, Kyle Kopacz\n",
      "Team #4: Indira Tejaswini Vadlapatla, Neil Gandhi, Anu Khandelwal, Timothy Yu\n",
      "Team #5: David Hui, Sujata Vithala, Ashish Shrivastava, Sharal Stanley\n",
      "Team #6: Anuradha Singh, Raj Ray, Jessie Luk, Alok Kommajesula\n",
      "Team #7: Sean Noone, Aparna Potdar, Pallavi Donwad, Ronald Martis\n",
      "Team #8: Kevin Crosby, Jonathan Robinson, David Omorrissey, Satyanand Madakshira\n"
     ]
    }
   ],
   "source": [
    "import random\n",
    "\n",
    "individualteam = []\n",
    "teamlist = []\n",
    "\n",
    "fullList = ['Sean Noone','Emily Nassi','Satyanand Madakshira','Jessie Luk','pallavi donwad','Trevor Prescott','Aparna Potdar','Michael Ilelaboye','Aruna Amaresan','Timothy Yu','Ashish Shrivastava','Raj Ray','David OMorrissey','Jason Subbie','Mary Kruse','Jonathan Robinson','Kyle Kopacz','Zach Quasney','Sujata Vithala','Spenser Hilton','Anu Khandelwal','Neil Gandhi','Aswathy Mohan','David Hui','Linda Farley','Sharal Stanley','Anuradha Singh','Aiyana Mathew','Ronald Martis','Alok Kommajesula','Kevin Crosby','Indira Tejaswini Vadlapatla']\n",
    "\n",
    "#names = ['Sean Noone','Satyanand Madakshira','Jessie Luk','pallavi donwad','Trevor Prescott','Aparna Potdar','Timothy Yu','Ashish Shrivastava','Raj Ray','David OMorrissey','Jason Subbie','Mary Kruse','Jonathan Robinson','Kyle Kopacz','Sujata Vithala','Spenser Hilton','Anu Khandelwal','Neil Gandhi','David Hui','Sharal Stanley','Anuradha Singh','Ronald Martis','Alok Kommajesula','Kevin Crosby','Indira Tejaswini Vadlapatla']\n",
    "\n",
    "TeamPreference1 = ['Aswathy Mohan','Aiyana Mathew','Aruna Amaresan','No way test']\n",
    "TeamPreference2 = ['Zach Quasney','Emily Nassi','Linda Farley']\n",
    "teamlist.append(TeamPreference1)\n",
    "\n",
    "#adjust the full list to remove team preference members using list comprehension\n",
    "fullList = [x for x in fullList if x not in TeamPreference1 and x not in TeamPreference2]\n",
    "\n",
    "counter = 0\n",
    "\n",
    "teamcounter = 0\n",
    "keepgoing = True\n",
    "\n",
    "while(keepgoing == True):\n",
    "    print(\"yes\")\n",
    "    #special starting code since team 2 only has 3 members\n",
    "    if(len(TeamPreference2) >0):\n",
    "        counter = len(TeamPreference2)\n",
    "        individualteam = individualteam + TeamPreference2\n",
    "        TeamPreference2=[]\n",
    "        \n",
    "    if(counter <9):\n",
    "        choice = random.choice(fullList)\n",
    "        individualteam.append(choice.lower().title())\n",
    "        fullList.remove(choice) \n",
    "        counter = counter + 1\n",
    "        if(len(fullList)==0):\n",
    "            teamlist.append(individualteam)\n",
    "            keepgoing = False\n",
    "    else:\n",
    "        if(len(fullList)==0):\n",
    "            False\n",
    "        else:\n",
    "            teamlist.append(individualteam)\n",
    "            individualteam = []\n",
    "            choice = random.choice(fullList)\n",
    "            individualteam.append(choice.lower().title())\n",
    "            fullList.remove(choice) \n",
    "            counter = 1\n",
    "\n",
    "#print results\n",
    "counter = 1\n",
    "for team in teamlist:\n",
    "    print(\"Team #\" + str(counter) +\": \", end='')\n",
    "    for name in team:\n",
    "\n",
    "        if(name == team[len(team)-1]):  \n",
    "            print(name, end='')\n",
    "        else:\n",
    "            print(name +\", \", end='')\n",
    "    counter = counter + 1\n",
    "    print(\"\")"
   ]
  },
  {
   "cell_type": "code",
   "execution_count": null,
   "metadata": {
    "collapsed": true
   },
   "outputs": [],
   "source": []
  }
 ],
 "metadata": {
  "kernelspec": {
   "display_name": "Python 3",
   "language": "python",
   "name": "python3"
  },
  "language_info": {
   "codemirror_mode": {
    "name": "ipython",
    "version": 3
   },
   "file_extension": ".py",
   "mimetype": "text/x-python",
   "name": "python",
   "nbconvert_exporter": "python",
   "pygments_lexer": "ipython3",
   "version": "3.6.3"
  }
 },
 "nbformat": 4,
 "nbformat_minor": 2
}
